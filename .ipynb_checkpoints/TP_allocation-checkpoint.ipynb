{
 "cells": [
  {
   "cell_type": "markdown",
   "metadata": {},
   "source": [
    "on commence par faire la génération exhaustive des allocations single-peaked (pour N objets il y en a 2^(N-1) )"
   ]
  },
  {
   "cell_type": "code",
   "execution_count": 3,
   "metadata": {},
   "outputs": [
    {
     "name": "stdout",
     "output_type": "stream",
     "text": [
      "[[1, 2, 3, 4], [1, 3, 2, 4], [1, 3, 4, 2], [3, 1, 2, 4], [3, 1, 4, 2], [3, 4, 1, 2]]\n"
     ]
    }
   ],
   "source": [
    "#je définis d'abord des fonctions d'overlaping entre 2 listes\n",
    "def all_overlaps(list1, list2,res):\n",
    "    done = []\n",
    "    all_overlaps2(list1,list2,done,res)\n",
    "    \n",
    "def all_overlaps2(_list1,_list2,_done,res):\n",
    "    #print(\"all_overlaps2 with \",_list1,_list2,_done)\n",
    "    list1=list(_list1)\n",
    "    list2=list(_list2)\n",
    "    done = list(_done)\n",
    "    \n",
    "    if(len(list1)==0):\n",
    "        res.append(done+list2)\n",
    "        return\n",
    "        \n",
    "    if(len(list2)==0):\n",
    "        res.append(done+list1)\n",
    "        return\n",
    "    \n",
    "    done.append(list1.pop(0))\n",
    "    overlap_fromleft(_list1,_list2,_done,res)\n",
    "    \n",
    "    done.append(list2.pop(0))\n",
    "    overlap_fromright(_list1,_list2,_done,res)\n",
    "    \n",
    "def overlap_fromleft(_list1,_list2,_done,res):\n",
    "    #print(\"overlap_fromleft with \",_list1,_list2,_done)\n",
    "    list1=list(_list1)\n",
    "    list2=list(_list2)\n",
    "    done = list(_done)\n",
    "    \n",
    "    done.append(list1.pop(0))\n",
    "    all_overlaps2(list1,list2,done,res)\n",
    "    \n",
    "def overlap_fromright(_list1,_list2,_done,res):\n",
    "    #print(\"overlap_fromright with \",_list1,_list2,_done)\n",
    "    list1=list(_list1)\n",
    "    list2=list(_list2)\n",
    "    done = list(_done)\n",
    "    \n",
    "    done.append(list2.pop(0))\n",
    "    all_overlaps2(list1,list2,done,res)\n",
    "\n",
    "    \n",
    "#code pour tester les fonction d'overlap     \n",
    "l1=[1,2]\n",
    "l2=[3,4]\n",
    "res=[]\n",
    "all_overlaps(l1,l2,res)\n",
    "print(res)"
   ]
  },
  {
   "cell_type": "code",
   "execution_count": 4,
   "metadata": {},
   "outputs": [
    {
     "name": "stdout",
     "output_type": "stream",
     "text": [
      "listobjects =  [1, 2, 3, 4, 5, 6]\n",
      "listalloc =  [[1, 2, 3, 4, 5, 6], [2, 1, 3, 4, 5, 6], [2, 3, 1, 4, 5, 6], [2, 3, 4, 1, 5, 6], [2, 3, 4, 5, 1, 6], [2, 3, 4, 5, 6, 1], [3, 2, 1, 4, 5, 6], [3, 2, 4, 1, 5, 6], [3, 2, 4, 5, 1, 6], [3, 2, 4, 5, 6, 1], [3, 4, 2, 1, 5, 6], [3, 4, 2, 5, 1, 6], [3, 4, 2, 5, 6, 1], [3, 4, 5, 2, 1, 6], [3, 4, 5, 2, 6, 1], [3, 4, 5, 6, 2, 1], [4, 3, 2, 1, 5, 6], [4, 3, 2, 5, 1, 6], [4, 3, 2, 5, 6, 1], [4, 3, 5, 2, 1, 6], [4, 3, 5, 2, 6, 1], [4, 3, 5, 6, 2, 1], [4, 5, 3, 2, 1, 6], [4, 5, 3, 2, 6, 1], [4, 5, 3, 6, 2, 1], [4, 5, 6, 3, 2, 1], [5, 4, 3, 2, 1, 6], [5, 4, 3, 2, 6, 1], [5, 4, 3, 6, 2, 1], [5, 4, 6, 3, 2, 1], [5, 6, 4, 3, 2, 1], [6, 5, 4, 3, 2, 1]]\n",
      "size =  32\n"
     ]
    }
   ],
   "source": [
    "import itertools\n",
    "N = 6\n",
    "\n",
    "listallobjects = range(1,N+1)\n",
    "print(\"listobjects = \", list(listallobjects))\n",
    "\n",
    "#fonction recursive\n",
    "def single_peak_branch(listobjects, listalloc):\n",
    "    if(len(listobjects) == 1):\n",
    "        return listobjects\n",
    "    \n",
    "    #on prends en compte les objets un par un comment correspond au peak\n",
    "    for i, objecti in enumerate(listobjects):\n",
    "        remain_left = list(reversed(list(listobjects[0:i])))\n",
    "        remain_right =list(listobjects[i+1:])\n",
    "        #print(\"objet \", objecti)\n",
    "        #print(\"\\t remain_left = \", remain_left)\n",
    "        #print(\"\\t remain_right = \", remain_right)\n",
    "        \n",
    "        if(len(remain_left)==0):\n",
    "            alloc = list()\n",
    "            alloc.append(objecti)\n",
    "            alloc = alloc + list(remain_right)\n",
    "            #print(\"\\t final alloc found : \", alloc)\n",
    "            listalloc.append(alloc)\n",
    "            \n",
    "        if(len(remain_right)==0):\n",
    "            alloc = list()\n",
    "            alloc.append(objecti)\n",
    "            alloc = alloc + list(remain_left)\n",
    "            #print(\"\\t final alloc found : \", alloc)\n",
    "            listalloc.append(alloc)\n",
    "            \n",
    "        #if we have two non-empty lists, we want to combine them\n",
    "        if(len(remain_left)>0 and len(remain_right)>0):\n",
    "            list1=remain_left\n",
    "            list2=remain_right\n",
    "            res=[]\n",
    "            all_overlaps(remain_left,remain_right,res)\n",
    "            #add objecti to each element of res\n",
    "            objectilist = []\n",
    "            objectilist.append(objecti)\n",
    "            final_res = [objectilist+x for x in res]\n",
    "            #print(\"\\t combine : \",final_res)\n",
    "            [listalloc.append(x) for x in final_res]\n",
    "\n",
    "\n",
    "        \n",
    "listalloc = list()\n",
    "single_peak_branch(listallobjects, listalloc)\n",
    "\n",
    "print(\"listalloc = \", listalloc)\n",
    "print(\"size = \",len(listalloc))"
   ]
  }
 ],
 "metadata": {
  "kernelspec": {
   "display_name": "Python 3",
   "language": "python",
   "name": "python3"
  },
  "language_info": {
   "codemirror_mode": {
    "name": "ipython",
    "version": 3
   },
   "file_extension": ".py",
   "mimetype": "text/x-python",
   "name": "python",
   "nbconvert_exporter": "python",
   "pygments_lexer": "ipython3",
   "version": "3.6.5"
  }
 },
 "nbformat": 4,
 "nbformat_minor": 2
}
